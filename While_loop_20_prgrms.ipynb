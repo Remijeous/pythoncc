{
  "nbformat": 4,
  "nbformat_minor": 0,
  "metadata": {
    "colab": {
      "provenance": [],
      "authorship_tag": "ABX9TyM5pINr0+ypnVFPiy9vZSpX",
      "include_colab_link": true
    },
    "kernelspec": {
      "name": "python3",
      "display_name": "Python 3"
    },
    "language_info": {
      "name": "python"
    }
  },
  "cells": [
    {
      "cell_type": "markdown",
      "metadata": {
        "id": "view-in-github",
        "colab_type": "text"
      },
      "source": [
        "<a href=\"https://colab.research.google.com/github/Remijeous/pythoncc/blob/user_input_and_while_loops/While_loop_20_prgrms.ipynb\" target=\"_parent\"><img src=\"https://colab.research.google.com/assets/colab-badge.svg\" alt=\"Open In Colab\"/></a>"
      ]
    },
    {
      "cell_type": "markdown",
      "source": [
        "\n",
        "\n",
        "1. Write a Python program to print the numbers from 1 to 10 using a while loop.\n",
        "\n",
        "2. Write a Python program to print the even numbers from 1 to 100 using a while loop.\n",
        "\n",
        "3. Write a Python program to print the odd numbers from 1 to 100 using a while loop.\n",
        "\n",
        "4. Write a Python program to print the Fibonacci sequence up to 100 using a while loop.\n",
        "\n",
        "5. Write a Python program to print the factorial of a number using a while loop.\n",
        "\n",
        "6. Write a Python program to print the GCD of two numbers using a while loop.\n",
        "\n",
        "7. Write a Python program to print the LCM of two numbers using a while loop.\n",
        "\n",
        "8. Write a Python program to reverse a string using a while loop.\n",
        "\n",
        "9. Write a Python program to check if a number is prime using a while loop.\n",
        "\n",
        "10. Write a Python program to print all the prime numbers between 1 and 100 using a while loop.\n",
        "\n",
        "11. Write a Python program to print all the Armstrong numbers between 1 and 1000 using a while loop.\n",
        "\n",
        "12. Write a Python program to print all the Palindrome numbers between 1 and 1000 using a while loop.\n",
        "\n",
        "13. Write a Python program to print all the perfect squares between 1 and 100 using a while loop.\n",
        "\n",
        "14. Write a Python program to print all the perfect cubes between 1 and 100 using a while loop.\n",
        "\n",
        "15. Write a Python program to print all the ASCII values of characters from A to Z using a while loop.\n",
        "\n",
        "16. Write a Python program to print all the ASCII values of digits from 0 to 9 using a while loop.\n",
        "\n",
        "17. Write a Python program to print all the ASCII values of special characters using a while loop.\n",
        "\n",
        "18. Write a Python program to print all the vowels in a string using a while loop.\n",
        "\n",
        "19. Write a Python program to print all the consonants in a string using a while loop.\n",
        "\n",
        "20. Write a Python program to print all the words in a sentence using a while loop."
      ],
      "metadata": {
        "id": "PDTfOw7yU6C4"
      }
    },
    {
      "cell_type": "code",
      "source": [
        "#1. Write a Python program to print the numbers from 1 to 10 using a while loop.\n",
        "i = 1\n",
        "while i <= 10:\n",
        "  print(i)\n",
        "  i = i + 1"
      ],
      "metadata": {
        "id": "6E32GXhSVDp_"
      },
      "execution_count": null,
      "outputs": []
    },
    {
      "cell_type": "code",
      "source": [
        "#2 Write a Python program to print the even numbers from 1 to 100 using a while loop.\n",
        "i=1\n",
        "while i <= 100:\n",
        "  i = i+1\n",
        "  if i % 2 == 0:\n",
        "    print(i)\n",
        "  "
      ],
      "metadata": {
        "id": "KcnFmOMVVE9R"
      },
      "execution_count": null,
      "outputs": []
    },
    {
      "cell_type": "code",
      "source": [
        "#3.Write a Python program to print the odd numbers from 1 to 100 using a while loop.\n",
        "i=0\n",
        "while i <= 100:\n",
        "  i = i+1\n",
        "  if i % 2 != 0:\n",
        "    print(i)"
      ],
      "metadata": {
        "id": "K4u8sQhlVH4s"
      },
      "execution_count": null,
      "outputs": []
    },
    {
      "cell_type": "code",
      "source": [
        "#4. Write a Python program to print the Fibonacci sequence up to 100 using a while loop. up to 100 using a while loop.\n",
        "i=0\n",
        "while i <= 100:\n",
        "  \n",
        "  print(n)\n",
        "  i=n"
      ],
      "metadata": {
        "id": "9q1F3ze2VL2L"
      },
      "execution_count": null,
      "outputs": []
    }
  ]
}