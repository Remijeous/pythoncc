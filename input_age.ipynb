{
  "nbformat": 4,
  "nbformat_minor": 0,
  "metadata": {
    "colab": {
      "provenance": [],
      "authorship_tag": "ABX9TyOjFc9QBgZFbsbjydgdSW3h",
      "include_colab_link": true
    },
    "kernelspec": {
      "name": "python3",
      "display_name": "Python 3"
    },
    "language_info": {
      "name": "python"
    }
  },
  "cells": [
    {
      "cell_type": "markdown",
      "metadata": {
        "id": "view-in-github",
        "colab_type": "text"
      },
      "source": [
        "<a href=\"https://colab.research.google.com/github/Remijeous/pythoncc/blob/user_input_and_while_loops/input_age.ipynb\" target=\"_parent\"><img src=\"https://colab.research.google.com/assets/colab-badge.svg\" alt=\"Open In Colab\"/></a>"
      ]
    },
    {
      "cell_type": "code",
      "execution_count": 1,
      "metadata": {
        "colab": {
          "base_uri": "https://localhost:8080/"
        },
        "id": "5vz-d--crGd-",
        "outputId": "0f488757-7bb4-4640-9842-1c796b1f1a1e"
      },
      "outputs": [
        {
          "output_type": "stream",
          "name": "stdout",
          "text": [
            "Enter your age:15\n",
            "Come back after when you are 18\n"
          ]
        }
      ],
      "source": [
        "age = input(\"Enter your age:\")\n",
        "age = int(age)\n",
        "if age >= 18:\n",
        "  print(\"You are old enough to vote\")\n",
        "else:\n",
        "  print(\"Come back after when you are 18\")"
      ]
    }
  ]
}