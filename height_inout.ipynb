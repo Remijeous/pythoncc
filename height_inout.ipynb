{
  "nbformat": 4,
  "nbformat_minor": 0,
  "metadata": {
    "colab": {
      "provenance": [],
      "authorship_tag": "ABX9TyOblzfyQgqevgpDq+nAK6r7",
      "include_colab_link": true
    },
    "kernelspec": {
      "name": "python3",
      "display_name": "Python 3"
    },
    "language_info": {
      "name": "python"
    }
  },
  "cells": [
    {
      "cell_type": "markdown",
      "metadata": {
        "id": "view-in-github",
        "colab_type": "text"
      },
      "source": [
        "<a href=\"https://colab.research.google.com/github/Remijeous/pythoncc/blob/user_input_and_while_loops/height_inout.ipynb\" target=\"_parent\"><img src=\"https://colab.research.google.com/assets/colab-badge.svg\" alt=\"Open In Colab\"/></a>"
      ]
    },
    {
      "cell_type": "code",
      "execution_count": 1,
      "metadata": {
        "colab": {
          "base_uri": "https://localhost:8080/"
        },
        "id": "X-O1Wksusn8w",
        "outputId": "6e34bcbf-9bf5-47c4-b4c5-1595d83f81fa"
      },
      "outputs": [
        {
          "output_type": "stream",
          "name": "stdout",
          "text": [
            "Enter your height in cm: 160\n",
            "You are not eligible to join in army\n"
          ]
        }
      ],
      "source": [
        "height = input(\"Enter your height in cm: \")\n",
        "height = int(height)\n",
        "if height >= 165:\n",
        "  print(\"You are eligible to join army\")\n",
        "else:\n",
        "  print(\"You are not eligible to join in army\")"
      ]
    }
  ]
}