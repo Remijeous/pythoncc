{
  "nbformat": 4,
  "nbformat_minor": 0,
  "metadata": {
    "colab": {
      "provenance": [],
      "toc_visible": true,
      "authorship_tag": "ABX9TyO3AEMPRIY/IVFVsjM8FT8X",
      "include_colab_link": true
    },
    "kernelspec": {
      "name": "python3",
      "display_name": "Python 3"
    },
    "language_info": {
      "name": "python"
    }
  },
  "cells": [
    {
      "cell_type": "markdown",
      "metadata": {
        "id": "view-in-github",
        "colab_type": "text"
      },
      "source": [
        "<a href=\"https://colab.research.google.com/github/Remijeous/pythoncc/blob/list/listex1.ipynb\" target=\"_parent\"><img src=\"https://colab.research.google.com/assets/colab-badge.svg\" alt=\"Open In Colab\"/></a>"
      ]
    },
    {
      "cell_type": "code",
      "execution_count": null,
      "metadata": {
        "colab": {
          "base_uri": "https://localhost:8080/"
        },
        "id": "HCX2sD1FPLJB",
        "outputId": "f739f076-496e-481d-df80-33137cdf97f7"
      },
      "outputs": [
        {
          "output_type": "stream",
          "name": "stdout",
          "text": [
            "['philipines', 'switzerland', 'canada', 'india', 'korea']\n",
            "['canada', 'india', 'korea', 'philipines', 'switzerland']\n",
            "['korea', 'india', 'canada', 'switzerland', 'philipines']\n",
            "['philipines', 'switzerland', 'canada', 'india', 'korea']\n",
            "['canada', 'india', 'korea', 'philipines', 'switzerland']\n",
            "5\n",
            "switzerland\n"
          ]
        }
      ],
      "source": [
        "countries = ['philipines', 'switzerland', 'canada', 'india', 'korea']\n",
        "print(countries)\n",
        "print(sorted(countries))\n",
        "countries.reverse()\n",
        "print(countries)\n",
        "countries.reverse()\n",
        "print(countries)\n",
        "countries.sort()\n",
        "print(countries)\n",
        "print(len(countries))\n",
        "print(countries[4])\n",
        "\n"
      ]
    },
    {
      "cell_type": "code",
      "source": [
        "magicians = ['amma', 'appa', 'nivi', 'akka', 'jesus']\n",
        "for magician in magicians:\n",
        "  print(magician)"
      ],
      "metadata": {
        "colab": {
          "base_uri": "https://localhost:8080/"
        },
        "id": "h0kHPhD-KlQC",
        "outputId": "4d138d21-790c-49a5-bfc5-3f48d5121d9e"
      },
      "execution_count": null,
      "outputs": [
        {
          "output_type": "stream",
          "name": "stdout",
          "text": [
            "amma\n",
            "appa\n",
            "nivi\n",
            "akka\n",
            "jesus\n"
          ]
        }
      ]
    },
    {
      "cell_type": "code",
      "source": [
        "magicians = ['amma', 'appa', 'nivi', 'akka', 'jesus']\n",
        "for magician in magicians:\n",
        "  print(magician.title() + \", that was a great trick\")\n",
        "  print(\"I can't wait to see your next trick \" + magician.title() + \".\\n\")\n",
        "\n",
        "print(\"Thank you, everyone. That was a great magic show\")"
      ],
      "metadata": {
        "colab": {
          "base_uri": "https://localhost:8080/"
        },
        "id": "fr2DgehkiCua",
        "outputId": "6fb10e1d-ca02-4126-e9bb-690ce06e4c07"
      },
      "execution_count": 9,
      "outputs": [
        {
          "output_type": "stream",
          "name": "stdout",
          "text": [
            "Amma, that was a great trick\n",
            "I can't wait to see your next trick Amma.\n",
            "\n",
            "Appa, that was a great trick\n",
            "I can't wait to see your next trick Appa.\n",
            "\n",
            "Nivi, that was a great trick\n",
            "I can't wait to see your next trick Nivi.\n",
            "\n",
            "Akka, that was a great trick\n",
            "I can't wait to see your next trick Akka.\n",
            "\n",
            "Jesus, that was a great trick\n",
            "I can't wait to see your next trick Jesus.\n",
            "\n",
            "Thank you, everyone. That was a great magic show\n"
          ]
        }
      ]
    }
  ]
}