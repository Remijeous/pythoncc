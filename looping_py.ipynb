{
  "nbformat": 4,
  "nbformat_minor": 0,
  "metadata": {
    "colab": {
      "provenance": [],
      "authorship_tag": "ABX9TyPMucXC9mCM8RYoYa8vPDic",
      "include_colab_link": true
    },
    "kernelspec": {
      "name": "python3",
      "display_name": "Python 3"
    },
    "language_info": {
      "name": "python"
    }
  },
  "cells": [
    {
      "cell_type": "markdown",
      "metadata": {
        "id": "view-in-github",
        "colab_type": "text"
      },
      "source": [
        "<a href=\"https://colab.research.google.com/github/Remijeous/pythoncc/blob/loop/looping_py.ipynb\" target=\"_parent\"><img src=\"https://colab.research.google.com/assets/colab-badge.svg\" alt=\"Open In Colab\"/></a>"
      ]
    },
    {
      "cell_type": "code",
      "execution_count": 4,
      "metadata": {
        "colab": {
          "base_uri": "https://localhost:8080/"
        },
        "id": "zW6h2aManYDl",
        "outputId": "c62cfcbb-9dab-4369-fff3-20944279d2f2"
      },
      "outputs": [
        {
          "output_type": "stream",
          "name": "stdout",
          "text": [
            "I love Meatzza Pizza.\n",
            "\n",
            "I love Extravaganza Pizza.\n",
            "\n",
            "I love Diavola Pizza.\n",
            "\n",
            "I love Quattro Pizza.\n",
            "\n",
            "I like the pizza very lot\n"
          ]
        }
      ],
      "source": [
        "pizzas = ['meatzza', 'extravaganza', 'diavola', 'quattro']\n",
        "for pizza in pizzas:\n",
        "  print(\"I love \" + pizza.title() + \" Pizza.\\n\")\n",
        "\n",
        "print(\"I like the pizza very lot\")"
      ]
    },
    {
      "cell_type": "code",
      "source": [
        "pets = ['dog', 'cat', 'parrot']\n",
        "for pet in pets:\n",
        "  print(\"I like to have a \" + pet.title() + \" as a pet in my Home.\\n\")\n",
        "\n",
        "print(\"Pets are more loyal to their owners than humans\")\n"
      ],
      "metadata": {
        "colab": {
          "base_uri": "https://localhost:8080/"
        },
        "id": "k32ICDsexmfL",
        "outputId": "99bbcca6-5284-48ff-a83e-0d28c8a4e325"
      },
      "execution_count": 7,
      "outputs": [
        {
          "output_type": "stream",
          "name": "stdout",
          "text": [
            "I like to have a Dog as a pet in my Home.\n",
            "\n",
            "I like to have a Cat as a pet in my Home.\n",
            "\n",
            "I like to have a Parrot as a pet in my Home.\n",
            "\n",
            "Pets are more loyal to their owners than humans\n"
          ]
        }
      ]
    }
  ]
}