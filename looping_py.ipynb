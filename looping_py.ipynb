{
  "nbformat": 4,
  "nbformat_minor": 0,
  "metadata": {
    "colab": {
      "provenance": [],
      "authorship_tag": "ABX9TyOPY8MulEClfBBheoM4UgQl",
      "include_colab_link": true
    },
    "kernelspec": {
      "name": "python3",
      "display_name": "Python 3"
    },
    "language_info": {
      "name": "python"
    }
  },
  "cells": [
    {
      "cell_type": "markdown",
      "metadata": {
        "id": "view-in-github",
        "colab_type": "text"
      },
      "source": [
        "<a href=\"https://colab.research.google.com/github/Remijeous/pythoncc/blob/loop/looping_py.ipynb\" target=\"_parent\"><img src=\"https://colab.research.google.com/assets/colab-badge.svg\" alt=\"Open In Colab\"/></a>"
      ]
    },
    {
      "cell_type": "code",
      "execution_count": null,
      "metadata": {
        "colab": {
          "base_uri": "https://localhost:8080/"
        },
        "id": "zW6h2aManYDl",
        "outputId": "948e16ff-c2f5-4a7d-c6f5-936981b5edc6"
      },
      "outputs": [
        {
          "output_type": "stream",
          "name": "stdout",
          "text": [
            "I love Meatzza Pizza.\n",
            "\n",
            "I love Extravaganza Pizza.\n",
            "\n",
            "I love Diavola Pizza.\n",
            "\n",
            "I love Quattro Pizza.\n",
            "\n"
          ]
        }
      ],
      "source": [
        "pizzas = ['meatzza', 'extravaganza', 'diavola', 'quattro']\n",
        "for pizza in pizzas:\n",
        "  print(\"I love \" + pizza.title() + \" Pizza.\\n\")"
      ]
    }
  ]
}